{
  "nbformat": 4,
  "nbformat_minor": 0,
  "metadata": {
    "colab": {
      "name": "Python.ipynb",
      "provenance": [],
      "authorship_tag": "ABX9TyPHiQ3LXPUj8+JcTnjcikCF",
      "include_colab_link": true
    },
    "kernelspec": {
      "name": "python3",
      "display_name": "Python 3"
    },
    "language_info": {
      "name": "python"
    }
  },
  "cells": [
    {
      "cell_type": "markdown",
      "metadata": {
        "id": "view-in-github",
        "colab_type": "text"
      },
      "source": [
        "<a href=\"https://colab.research.google.com/github/PenguinFeiFei/PythonDay/blob/main/PythonTest.ipynb\" target=\"_parent\"><img src=\"https://colab.research.google.com/assets/colab-badge.svg\" alt=\"Open In Colab\"/></a>"
      ]
    },
    {
      "cell_type": "code",
      "metadata": {
        "colab": {
          "base_uri": "https://localhost:8080/"
        },
        "id": "OYMbWmGn40zh",
        "outputId": "fa983464-93ab-435b-9ee8-04cd711ce64d"
      },
      "source": [
        "a = set([\"Jake\", \"John\", \"Eric\"])\n",
        "b = set([\"John\", \"Jill\"])\n",
        "\n",
        "print(a & b)\n",
        "print(a | b)\n"
      ],
      "execution_count": 16,
      "outputs": [
        {
          "output_type": "stream",
          "text": [
            "{'John'}\n",
            "{'Jill', 'John', 'Jake', 'Eric'}\n"
          ],
          "name": "stdout"
        }
      ]
    },
    {
      "cell_type": "code",
      "metadata": {
        "colab": {
          "base_uri": "https://localhost:8080/"
        },
        "id": "O0cICjTH5X5S",
        "outputId": "9c41de31-e026-4a25-a492-1bd471c33c5c"
      },
      "source": [
        "c = '66 114 101 97 107 65 76 76 67 84 70 123 65 109 118 48 117 68 121 101 114 118 80 116 109 86 114 57 83 83 83 75 125'\n",
        "\n",
        "ans = \"\"\n",
        "\n",
        "for x in c.split(' '):\n",
        "  ans = ans + chr(int(x))\n",
        "\n",
        "print(ans)"
      ],
      "execution_count": 13,
      "outputs": [
        {
          "output_type": "stream",
          "text": [
            "BreakALLCTF{Amv0uDyervPtmVr9SSSK}\n"
          ],
          "name": "stdout"
        }
      ]
    },
    {
      "cell_type": "code",
      "metadata": {
        "colab": {
          "base_uri": "https://localhost:8080/"
        },
        "id": "DT-ymE-S6gLh",
        "outputId": "5bcc7ace-47a2-44bf-8b33-5a072503423c"
      },
      "source": [
        "import base64\n",
        "\n",
        "target = 'IJZGKYLLIFGEYQ2UIZ5TS6BUHA2VMUZXO5UWS5CCLJMFKVLIJVSX2==='\n",
        "decoded_data = base64.b32decode(target)\n",
        "\n",
        "print(decoded_data)"
      ],
      "execution_count": 9,
      "outputs": [
        {
          "output_type": "stream",
          "text": [
            "b'BreakALLCTF{9x485VS7wiitBZXUUhMe}'\n"
          ],
          "name": "stdout"
        }
      ]
    },
    {
      "cell_type": "code",
      "metadata": {
        "colab": {
          "base_uri": "https://localhost:8080/"
        },
        "id": "YYfJaEHWG1ES",
        "outputId": "4feb4cad-ed8f-456d-f754-fee351342c4a"
      },
      "source": [
        "x = [1, 2, 3]\n",
        "y = [1, 2, 3]\n",
        "print(id(x), id(y))\n",
        "\n",
        "print(x == y)\n",
        "print(x is y)"
      ],
      "execution_count": 15,
      "outputs": [
        {
          "output_type": "stream",
          "text": [
            "140600448797344 140600449048976\n",
            "True\n",
            "False\n"
          ],
          "name": "stdout"
        }
      ]
    },
    {
      "cell_type": "code",
      "metadata": {
        "colab": {
          "base_uri": "https://localhost:8080/"
        },
        "id": "pnVPaC6SHx0x",
        "outputId": "780ec923-45ec-4a8b-9ca9-f5b3f196f384"
      },
      "source": [
        "primes = [2, 3, 5, 7]\n",
        "for prime in primes:\n",
        "    print(prime)\n",
        "\n",
        "for x in range(5):\n",
        "    print(x)\n",
        "\n",
        "for x in range(3, 6):\n",
        "    print(x)\n",
        "\n",
        "for x in range(3, 8, 2):\n",
        "    print(x)"
      ],
      "execution_count": 17,
      "outputs": [
        {
          "output_type": "stream",
          "text": [
            "2\n",
            "3\n",
            "5\n",
            "7\n",
            "0\n",
            "1\n",
            "2\n",
            "3\n",
            "4\n",
            "3\n",
            "4\n",
            "5\n",
            "3\n",
            "5\n",
            "7\n"
          ],
          "name": "stdout"
        }
      ]
    }
  ]
}